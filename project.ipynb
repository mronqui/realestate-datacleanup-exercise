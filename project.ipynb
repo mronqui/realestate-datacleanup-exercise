{
 "cells": [
  {
   "cell_type": "markdown",
   "id": "c4e52ee5",
   "metadata": {},
   "source": [
    "## The dataset\n",
    "\n",
    "This is a real dataset and it was downloaded using web scraping techniques. The data contains registers from fotocasa which is one of the most popular websites of real estate in Spain. Please, do not do this (web scraping) unless it is for academic purposes.\n",
    "\n",
    "The dataset was downloaded a few years ago by Henry Navarro and In no case were economic returns obtained from it.\n",
    "\n",
    "It contains thousands of data from real homes published on the web www.fotocasa.com. Your goal is to extract as much information as possible with the knowledge you have so far about data science, for example what is the most expensive home in the entire dataset?\n",
    "\n",
    "Let's start with precisely that question... Good luck!\n"
   ]
  },
  {
   "cell_type": "markdown",
   "id": "dd97255d",
   "metadata": {},
   "source": [
    "#### Read the dataset assets/real_estate.csv and try to visualize the table (★☆☆)"
   ]
  },
  {
   "cell_type": "code",
   "execution_count": null,
   "id": "4b93d9c8",
   "metadata": {},
   "outputs": [],
   "source": [
    "import pandas as pd\n",
    "\n",
    "df_data = pd.read_csv('assets/real_estate.csv',sep=';')\n",
    "print(df_data.describe())"
   ]
  },
  {
   "cell_type": "markdown",
   "id": "40631cd6",
   "metadata": {},
   "source": [
    "#### What is the most expensive home in the dataset? (★☆☆)"
   ]
  },
  {
   "cell_type": "code",
   "execution_count": 5,
   "id": "8a758bcf",
   "metadata": {},
   "outputs": [
    {
     "name": "stdout",
     "output_type": "stream",
     "text": [
      "The id of the most expensive house is 13110\n"
     ]
    }
   ],
   "source": [
    "#df_data.info()\n",
    "#df_data.describe()\n",
    "\n",
    "column = df_data[\"price\"]\n",
    "max_index = column.idxmax()\n",
    "print(f\"El Id de la casa mas cara {max_index}\")\n"
   ]
  },
  {
   "cell_type": "markdown",
   "id": "0a708990",
   "metadata": {},
   "source": [
    "#### What is cheapest home in the dataset? (★☆☆)"
   ]
  },
  {
   "cell_type": "code",
   "execution_count": 10,
   "id": "477e01f4",
   "metadata": {},
   "outputs": [
    {
     "name": "stdout",
     "output_type": "stream",
     "text": [
      "El Id de la casa mas barata es 366\n"
     ]
    }
   ],
   "source": [
    "column = df_data[\"price\"]\n",
    "min_index = column.idxmin()\n",
    "print(f\"El Id de la casa mas barata es {min_index}\")\n"
   ]
  },
  {
   "cell_type": "markdown",
   "id": "0b16cd77",
   "metadata": {},
   "source": [
    "#### What is the biggest and the smallest home in the dataset? (★☆☆)"
   ]
  },
  {
   "cell_type": "code",
   "execution_count": 9,
   "id": "4d9b5975",
   "metadata": {},
   "outputs": [
    {
     "name": "stdout",
     "output_type": "stream",
     "text": [
      "El Id de la casa más chica es 498 y su superficie es 15.0\n",
      "El Id de la casa más chica es 6794 y su superficie es 249000.0\n"
     ]
    }
   ],
   "source": [
    "column = df_data[\"surface\"]\n",
    "min_index = column.idxmin()\n",
    "min = column.min()\n",
    "max_index = column.idxmax()\n",
    "max = column.max()\n",
    "print(f\"El Id de la casa más chica es {min_index} y su superficie es {min}\")\n",
    "print(f\"El Id de la casa más chica es {max_index} y su superficie es {max}\")"
   ]
  },
  {
   "cell_type": "code",
   "execution_count": 61,
   "metadata": {},
   "outputs": [],
   "source": [
    "# valor del menor al mayor\n",
    "data =df_data[df_data['surface']>0]\n",
    "data_filtered_2 = data.sort_values(by='surface', ascending=True)"
   ]
  },
  {
   "cell_type": "markdown",
   "id": "782d4c77",
   "metadata": {},
   "source": [
    "#### How many populations (level5) the dataset contains? (★☆☆)"
   ]
  },
  {
   "cell_type": "code",
   "execution_count": 62,
   "id": "5dbe1a08",
   "metadata": {},
   "outputs": [
    {
     "name": "stdout",
     "output_type": "stream",
     "text": [
      "168\n",
      "168\n"
     ]
    }
   ],
   "source": [
    "level5_unicos = df_data[\"level5\"].unique()\n",
    "cant_level5 = len(level5_unicos)\n",
    "print(cant_level5)\n",
    "\n",
    "#print(level5_unicos.size)"
   ]
  },
  {
   "cell_type": "markdown",
   "id": "48d48f01",
   "metadata": {},
   "source": [
    "#### Does the dataset contain NAs? (★☆☆)\n"
   ]
  },
  {
   "cell_type": "code",
   "execution_count": 11,
   "id": "3ed233e7",
   "metadata": {},
   "outputs": [
    {
     "data": {
      "text/plain": [
       "customZone          15335\n",
       "zipCode             15335\n",
       "level6              14627\n",
       "level8               8579\n",
       "level4               6643\n",
       "level7               2277\n",
       "surface              1250\n",
       "phone_realEstate      794\n",
       "rooms                 353\n",
       "bathrooms             345\n",
       "description           142\n",
       "realEstate_name        10\n",
       "level1Id                0\n",
       "level8Id                0\n",
       "level7Id                0\n",
       "level6Id                0\n",
       "level5Id                0\n",
       "level4Id                0\n",
       "accuracy                0\n",
       "level3Id                0\n",
       "latitude                0\n",
       "longitude               0\n",
       "level2Id                0\n",
       "Unnamed: 0              0\n",
       "countryId               0\n",
       "upperLevel              0\n",
       "id_realEstates          0\n",
       "level3                  0\n",
       "level2                  0\n",
       "level1                  0\n",
       "country                 0\n",
       "address                 0\n",
       "date                    0\n",
       "price                   0\n",
       "url_inmueble            0\n",
       "isNew                   0\n",
       "level5                  0\n",
       "dtype: int64"
      ]
     },
     "execution_count": 11,
     "metadata": {},
     "output_type": "execute_result"
    }
   ],
   "source": [
    "#df_data.isnull().values.any()\n",
    "#df_data.isna().sum()\n",
    "df_data.isna().sum().sort_values(ascending = False)\n",
    "#df_data.isnull().values.any()\n",
    "#print(df_data.isnull().values.any())"
   ]
  },
  {
   "cell_type": "markdown",
   "id": "4fa39382",
   "metadata": {},
   "source": [
    "#### Delete the NAs of the dataset, if applicable (★★☆)"
   ]
  },
  {
   "cell_type": "code",
   "execution_count": 64,
   "id": "c97757ec",
   "metadata": {},
   "outputs": [],
   "source": [
    "#if df_data.isnull().values.any():\n",
    "#    stripped_data_frame = df_data.dropna()\n",
    "#    print(stripped_data_frame)\n",
    "#else:\n",
    "#    print(df_data)\n",
    "\n",
    "# No voy a borrar los NA porque no es aplicable, pero los voya a remplazar\n",
    "# remplazar un campo de texto por sin determinar si es el valor es nulo uso para eso fillna\n",
    "df_data['level6'].fillna(\"sin-determinar\", inplace=True)\n",
    "# remplazar un campo de numerico por cero si es el valor es nulo uso para eso fillna\n",
    "df_data['bathrooms'].fillna(0, inplace=True)\n",
    "#df = df.fillna(df.median())"
   ]
  },
  {
   "cell_type": "markdown",
   "id": "0e5f76de",
   "metadata": {},
   "source": [
    "#### What is the mean of prices in the population (level5) of \"Arroyomolinos (Madrid)\"? (★★☆)"
   ]
  },
  {
   "cell_type": "code",
   "execution_count": 65,
   "id": "327f7adb",
   "metadata": {},
   "outputs": [
    {
     "name": "stdout",
     "output_type": "stream",
     "text": [
      "297351.23\n"
     ]
    }
   ],
   "source": [
    "filtered_data_frame = df_data[df_data['level5'] == \"Arroyomolinos (Madrid)\"]\n",
    "data_filtered_by_surface = filtered_data_frame[filtered_data_frame['surface']>0]\n",
    "print(round(data_filtered_by_surface['price'].mean(),2))"
   ]
  },
  {
   "cell_type": "markdown",
   "id": "89b548e3",
   "metadata": {},
   "source": [
    "#### Plot the histogram of prices for the population (level5) of \"Arroyomolinos (Madrid)\" and explain what you observe (★★☆)"
   ]
  },
  {
   "cell_type": "code",
   "execution_count": 66,
   "id": "2ba51bf7",
   "metadata": {},
   "outputs": [
    {
     "data": {
      "image/png": "[encoded data removed]",
      "text/plain": [
       "<Figure size 432x288 with 1 Axes>"
      ]
     },
     "metadata": {
      "needs_background": "light"
     },
     "output_type": "display_data"
    },
    {
     "name": "stdout",
     "output_type": "stream",
     "text": [
      "\n",
      "    Grafica de Precios  - Arroyomolinos (Madrid)\n",
      "    \n"
     ]
    }
   ],
   "source": [
    "import matplotlib.pyplot as plt\n",
    "\n",
    "filtered_data_frame = df_data[df_data['level5'] == \"Arroyomolinos (Madrid)\"]\n",
    "data_filtered_by_price = filtered_data_frame[filtered_data_frame['price']>0]\n",
    "plt.hist(data_filtered_by_price['price'])\n",
    "plt.show()\n",
    "observations = \\\n",
    "    \"\"\"\n",
    "    Grafica de Precios  - Arroyomolinos (Madrid)\n",
    "    \"\"\"\n",
    "print(observations)\n",
    "\n"
   ]
  },
  {
   "cell_type": "markdown",
   "id": "c86dc493",
   "metadata": {},
   "source": [
    "#### Now let's work with the \"south belt\" of madrid. Make a subsetting that contains the following populations (level5): \"Fuenlabrada\",\"Leganés\",\"Getafe\",\"Alcorcón\" (★★☆) "
   ]
  },
  {
   "cell_type": "code",
   "execution_count": 79,
   "id": "5280d0cb",
   "metadata": {},
   "outputs": [],
   "source": [
    "#south_belt = df_data[df_data[\"level5\"].isin([\"Fuenlabrada\",\"Leganés\",\"Getafe\",\"Alcorcón\"])]\n",
    "\n",
    "lista = [\"Fuenlabrada\",\"Leganés\",\"Getafe\",\"Alcorcón\"]\n",
    "boolean_series = df_data.level5.isin(lista)\n",
    "data_filtered_south = df_data[boolean_series]\n",
    "#print(data_filtered_south)"
   ]
  },
  {
   "cell_type": "markdown",
   "id": "090a6a3e",
   "metadata": {},
   "source": [
    "#### Make a bar plot of the median of prices (★★★) "
   ]
  },
  {
   "cell_type": "code",
   "execution_count": 21,
   "id": "68aec11c",
   "metadata": {},
   "outputs": [
    {
     "data": {
      "image/png": "[encoded data removed]",
      "text/plain": [
       "<Figure size 432x288 with 1 Axes>"
      ]
     },
     "metadata": {
      "needs_background": "light"
     },
     "output_type": "display_data"
    }
   ],
   "source": [
    "#import seaborn as sns\n",
    "import matplotlib.pyplot as plt\n",
    "\n",
    "#sns.barplot(x = data_filtered_south[\"level5\"], y = data_filtered_south['price'], estimator = median)\n",
    "#plt.show()\n",
    "\n",
    "filtered_data_frame = df_data[df_data['level5'].isin(\n",
    "    ('Fuenlabrada', 'Leganés', 'Getafe', 'Alcorcón'))]\n",
    "filtered_data_frame = filtered_data_frame[['level5', 'price']]\n",
    "grouped_filtered_data_frame = filtered_data_frame.groupby('level5').median()\n",
    "keys = grouped_filtered_data_frame.index.values.tolist()\n",
    "values = grouped_filtered_data_frame['price'].tolist()\n",
    "plt.bar(keys, values)\n",
    "plt.show()"
   ]
  },
  {
   "cell_type": "markdown",
   "id": "18f67373",
   "metadata": {},
   "source": [
    "#### Calculate the sample mean and variance of the variables: price, rooms, surface area and bathrooms (★★★) "
   ]
  },
  {
   "cell_type": "code",
   "execution_count": 26,
   "id": "8d068061",
   "metadata": {},
   "outputs": [
    {
     "name": "stdout",
     "output_type": "stream",
     "text": [
      "Mean of the requested variables\n",
      "                     price     rooms     surface  bathrooms\n",
      "level5                                                     \n",
      "Alcorcón     230071.052632  2.914894  105.913295   1.623656\n",
      "Fuenlabrada  177198.021459  3.025974  103.624365   1.445415\n",
      "Getafe       265040.500000  3.151724  126.896266   1.865052\n",
      "Leganés      208682.010309  2.906736  105.852273   1.518135\n",
      "\n",
      "\n",
      "Variance of the requested variables\n",
      "                    price     rooms      surface  bathrooms\n",
      "level5                                                     \n",
      "Alcorcón     1.594783e+10  0.933895  4244.323834   0.592735\n",
      "Fuenlabrada  4.701021e+09  0.355844  2264.643893   0.353367\n",
      "Getafe       2.098267e+10  0.772748  5828.110028   0.658809\n",
      "Leganés      1.191394e+10  0.824590  3987.475195   0.553055\n"
     ]
    }
   ],
   "source": [
    "#data_filtered_south.groupby('level5')['level5', 'price', 'rooms', 'surface', 'bathrooms'].agg('max')\n",
    "#data_filtered_south.groupby('level5')['price'].max('max')\n",
    "\n",
    "import pandas as pd\n",
    "\n",
    "data_frame = pd.read_csv('./assets/real_estate.csv', sep=';')\n",
    "filtered_data_frame = data_frame[data_frame['level5'].isin(\n",
    "    ('Fuenlabrada', 'Leganés', 'Getafe', 'Alcorcón'))]\n",
    "filtered_data_frame = filtered_data_frame[\n",
    "    ['level5', 'price', 'rooms', 'surface', 'bathrooms']\n",
    "]\n",
    "grouped_filtered_data_frame = filtered_data_frame.groupby('level5')\n",
    "print(\"Mean of the requested variables\")\n",
    "print(grouped_filtered_data_frame.mean())\n",
    "print()\n",
    "print()\n",
    "print(\"Variance of the requested variables\")\n",
    "print(grouped_filtered_data_frame.var())"
   ]
  },
  {
   "cell_type": "markdown",
   "id": "95cfde61",
   "metadata": {},
   "source": [
    "#### What is the most expensive home of each population? (★★☆) "
   ]
  },
  {
   "cell_type": "code",
   "execution_count": 28,
   "id": "1c29f78c",
   "metadata": {},
   "outputs": [
    {
     "name": "stdout",
     "output_type": "stream",
     "text": [
      "{'Fuenlabrada': {'most_expensive_home': {'id': 11561, 'price': 490000}}, 'Leganés': {'most_expensive_home': {'id': 10412, 'price': 650000}}, 'Getafe': {'most_expensive_home': {'id': 2881, 'price': 1050000}}, 'Alcorcón': {'most_expensive_home': {'id': 5585, 'price': 950000}}}\n"
     ]
    }
   ],
   "source": [
    "import pandas as pd\n",
    "\n",
    "def get_population_most_expensive_home_data(population_data_frame: pd.DataFrame):\n",
    "    result = {\n",
    "        \"most_expensive_home\": {\n",
    "            \"id\": population_data_frame['price'].idxmax(), \n",
    "            \"price\": population_data_frame['price'].max()\n",
    "        }\n",
    "    }\n",
    "    return result\n",
    "\n",
    "data_frame = pd.read_csv('./assets/real_estate.csv', sep=';')\n",
    "populations_to_filter = ('Fuenlabrada', 'Leganés', 'Getafe', 'Alcorcón')\n",
    "filtered_data_frame = data_frame[data_frame['level5'].isin(populations_to_filter)]\n",
    "filtered_data_frame = filtered_data_frame[['level5', 'price']]\n",
    "population_specific_data_frames = [\n",
    "    filtered_data_frame[filtered_data_frame['level5'] == population]\n",
    "    for population in populations_to_filter\n",
    "]\n",
    "most_expensive_homes_dict = {\n",
    "    population_data_frame['level5'].iloc[0]: get_population_most_expensive_home_data(\n",
    "        population_data_frame=population_data_frame) \n",
    "    for population_data_frame in population_specific_data_frames\n",
    "}\n",
    "print(most_expensive_homes_dict)"
   ]
  },
  {
   "cell_type": "markdown",
   "id": "ea67579b",
   "metadata": {},
   "source": [
    "#### Normalize the variable of prices for each population and plot the 4 histograms in the same plot (★★★) "
   ]
  },
  {
   "cell_type": "code",
   "execution_count": 29,
   "id": "385ad99c",
   "metadata": {},
   "outputs": [
    {
     "data": {
      "image/png": "[encoded data removed]",
      "text/plain": [
       "<Figure size 432x288 with 4 Axes>"
      ]
     },
     "metadata": {
      "needs_background": "light"
     },
     "output_type": "display_data"
    }
   ],
   "source": [
    "import pandas as pd\n",
    "import matplotlib.pyplot as plt\n",
    "\n",
    "def normalize_price(data_frame: pd.DataFrame) -> pd.DataFrame:\n",
    "    column = 'price'\n",
    "    new_data_frame = data_frame.copy() \n",
    "    new_data_frame[column] = (data_frame[column] - data_frame[column].min()) / \\\n",
    "        (data_frame[column].max() - data_frame[column].min())\n",
    "    return new_data_frame\n",
    "\n",
    "data_frame = pd.read_csv('./assets/real_estate.csv', sep=';')\n",
    "populations_to_filter = ('Fuenlabrada', 'Leganés', 'Getafe', 'Alcorcón')\n",
    "filtered_data_frame = data_frame[data_frame['level5'].isin(populations_to_filter)]\n",
    "filtered_data_frame = filtered_data_frame[['level5', 'price']]\n",
    "population_specific_data_frames = [\n",
    "    filtered_data_frame[filtered_data_frame['level5'] == population]\n",
    "    for population in populations_to_filter\n",
    "]\n",
    "population_specific_data_frames = [\n",
    "    normalize_price(data_frame)\n",
    "    for data_frame in population_specific_data_frames\n",
    "]\n",
    "\n",
    "for index, population_data_frame in enumerate(population_specific_data_frames):\n",
    "    plt.subplot(2, 2, index + 1)\n",
    "    plt.xlabel('Normalized price')\n",
    "    plt.ylabel('Frequency')\n",
    "    plt.hist(population_data_frame, alpha=0.5,\n",
    "        label=population_data_frame['level5'].iloc[0])\n",
    "\n",
    "plt.show()"
   ]
  },
  {
   "cell_type": "markdown",
   "id": "2ec1bd5c",
   "metadata": {},
   "source": [
    "#### Make a plot of the coordinates (lat and long) of the south belt of Madrid by color of each population (★★★★) \n",
    "This is a extremely hard exercise and we highly recommend to do it at the end of everything"
   ]
  },
  {
   "cell_type": "code",
   "execution_count": 31,
   "id": "312aac99",
   "metadata": {},
   "outputs": [
    {
     "data": {
      "application/vnd.jupyter.widget-view+json": {
       "model_id": "f0e027d05c854753967cabab247a026f",
       "version_major": 2,
       "version_minor": 0
      },
      "text/plain": [
       "Map(center=[60, -2.2], controls=(ZoomControl(options=['position', 'zoom_in_text', 'zoom_in_title', 'zoom_out_t…"
      ]
     },
     "metadata": {},
     "output_type": "display_data"
    }
   ],
   "source": [
    "# Run in console the following command before run the rest of code:\n",
    "# jupyter nbextension enable --py --sys-prefix ipyleaflet\n",
    "\n",
    "#from ipyleaflet import Map, basemaps\n",
    "\n",
    "# Map centred on (60 degrees latitude et -2.2 degrees longitude)\n",
    "# Latitude, longitude\n",
    "#map = Map(center = (60, -2.2), zoom = 2, min_zoom = 1, max_zoom = 20, \n",
    "#    basemap=basemaps.Stamen.Terrain)\n",
    "#map\n",
    "\n",
    "\n",
    "# jupyter nbextension enable --py --sys-prefix ipyleaflet\n",
    "\n",
    "from ipyleaflet import Map, basemaps, Marker\n",
    "import pandas as pd\n",
    "\n",
    "# Map centred on (60 degrees latitude et -2.2 degrees longitude)\n",
    "# Latitude, longitude\n",
    "map = Map(center = (60, -2.2), zoom = 2, min_zoom = 1, max_zoom = 20, \n",
    "    basemap=basemaps.Stamen.Terrain)\n",
    "\n",
    "data_frame = pd.read_csv('./assets/real_estate.csv', sep=';')\n",
    "filtered_data_frame = data_frame[['level5', 'latitude', 'longitude']]\n",
    "populations_to_filter = ('Fuenlabrada', 'Leganés', 'Getafe', 'Alcorcón')\n",
    "colors = ('red', 'blue', 'yellow', 'pink')\n",
    "population_data_frames_dict = {\n",
    "    population: filtered_data_frame[filtered_data_frame['level5'] == population].dropna()\n",
    "    for population in populations_to_filter\n",
    "}\n",
    "\n",
    "for population in populations_to_filter:\n",
    "    population_data_frame = population_data_frames_dict[population]\n",
    "    for index in range(len(population_data_frame)):\n",
    "        location = (population_data_frame.iloc[index]['latitude'],\n",
    "            population_data_frame.iloc[index]['longitude'])\n",
    "        marker = Marker(location=location, draggable=False,\n",
    "            color=colors[populations_to_filter.index(population)])\n",
    "        map.add_layer(marker)\n",
    "\n",
    "map"
   ]
  },
  {
   "cell_type": "code",
   "execution_count": 68,
   "id": "f7931ec0",
   "metadata": {},
   "outputs": [],
   "source": [
    "## HERE: plot the coordinates of the estates\n",
    "\n",
    "## PUT HERE YOUR CODE:\n",
    "from ipyleaflet import Map, basemaps, Marker\n",
    "import pandas as pd\n",
    "\n",
    "# Map centred on (60 degrees latitude et -2.2 degrees longitude)\n",
    "# Latitude, longitude\n",
    "map = Map(center = (60, -2.2), zoom = 2, min_zoom = 1, max_zoom = 20, \n",
    "    basemap=basemaps.Stamen.Terrain)\n",
    "\n",
    "data_frame = pd.read_csv('./assets/real_estate.csv', sep=';')\n",
    "filtered_data_frame = data_frame[['level5', 'latitude', 'longitude']]\n",
    "populations_to_filter = ('Fuenlabrada', 'Leganés', 'Getafe', 'Alcorcón')\n",
    "colors = ('red', 'blue', 'yellow', 'pink')\n",
    "population_data_frames_dict = {\n",
    "    population: filtered_data_frame[filtered_data_frame['level5'] == population].dropna()\n",
    "    for population in populations_to_filter\n",
    "}\n",
    "\n",
    "for population in populations_to_filter:\n",
    "    population_data_frame = population_data_frames_dict[population]\n",
    "    for index in range(len(population_data_frame)):\n",
    "        location = (population_data_frame.iloc[index]['latitude'],\n",
    "            population_data_frame.iloc[index]['longitude'])\n",
    "        marker = Marker(location=location, draggable=False,\n",
    "            color=colors[populations_to_filter.index(population)])\n",
    "        map.add_layer(marker)\n",
    "\n",
    "map"
   ]
  },
  {
   "cell_type": "markdown",
   "id": "b22874b7",
   "metadata": {},
   "source": [
    "#### What can you say about the price per square meter between the towns of Getafe and Alcorcón?"
   ]
  },
  {
   "cell_type": "code",
   "execution_count": null,
   "metadata": {},
   "outputs": [],
   "source": [
    "import pandas as pd\n",
    "\n",
    "def get_price_per_square_meter_info(data_frame: pd.DataFrame):\n",
    "    return {\n",
    "        'price_per_square_meter': {\n",
    "                'average': data_frame['price_per_square_meter'].mean(),\n",
    "                'median': data_frame['price_per_square_meter'].median(),\n",
    "        }\n",
    "    }\n",
    "\n",
    "def print_conclusions():\n",
    "    print()\n",
    "    print(\"Thus ...\")\n",
    "    print(\"Properties in Getafe are in average cheaper than\")\n",
    "    print(\"those found in Alcorcón by the square meter\")\n",
    "    print()\n",
    "\n",
    "data_frame = pd.read_csv('./assets/real_estate.csv', sep=';')\n",
    "filtered_data_frame = data_frame[['level5', 'price', 'surface']]\n",
    "populations_to_filter = ('Getafe', 'Alcorcón')\n",
    "population_data_frames_dict = {\n",
    "    population: filtered_data_frame[filtered_data_frame['level5'] == population].dropna()\n",
    "    for population in populations_to_filter\n",
    "}\n",
    "price_per_square_meter_info_dict = {}\n",
    "for population in population_data_frames_dict:\n",
    "    population_data_frames_dict[population]['price_per_square_meter'] = \\\n",
    "        filtered_data_frame['price'] / filtered_data_frame['surface']\n",
    "    price_per_square_meter_info = get_price_per_square_meter_info(\n",
    "        data_frame=population_data_frames_dict[population])\n",
    "    price_per_square_meter_info_dict[population] = price_per_square_meter_info\n",
    "\n",
    "print(price_per_square_meter_info_dict)\n",
    "print_conclusions()"
   ]
  },
  {
   "cell_type": "markdown",
   "id": "2134ed56",
   "metadata": {},
   "source": [
    "#### Reload the data, is the average of \"Valdemorillo\" and \"Galapagar\" prices the same?"
   ]
  },
  {
   "cell_type": "code",
   "execution_count": null,
   "id": "37dbaf65",
   "metadata": {},
   "outputs": [],
   "source": [
    "import pandas as pd\n",
    "\n",
    "data_frame = pd.read_csv('./assets/real_estate.csv', sep=';')\n",
    "filtered_data_frame = data_frame[['level5', 'price']]\n",
    "populations_to_filter = ('Valdemorillo', 'Galapagar')\n",
    "population_data_frames_dict = {\n",
    "    population: filtered_data_frame[filtered_data_frame['level5'] == population].dropna()\n",
    "    for population in populations_to_filter\n",
    "}\n",
    "valdemorillo_average_price = population_data_frames_dict[populations_to_filter[0]]['price'].mean()\n",
    "galapagar_average_price = population_data_frames_dict[populations_to_filter[1]]['price'].mean()\n",
    "print()\n",
    "print(f\"{populations_to_filter[0]} has an average price of {valdemorillo_average_price}\")\n",
    "print(f\"{populations_to_filter[1]} has an average price of {galapagar_average_price}\")\n",
    "if valdemorillo_average_price == galapagar_average_price:\n",
    "    print(\"Yes, the average price is the same\")\n",
    "else:\n",
    "    print(\"No, the average price is NOT the same\")"
   ]
  },
  {
   "cell_type": "markdown",
   "id": "b6af45ec",
   "metadata": {},
   "source": [
    "#### What happens if we do the same analysis for price/m2 (★★☆) "
   ]
  },
  {
   "cell_type": "code",
   "execution_count": null,
   "id": "8231d73e",
   "metadata": {},
   "outputs": [],
   "source": [
    "import pandas as pd\n",
    "\n",
    "data_frame = pd.read_csv('./assets/real_estate.csv', sep=';')\n",
    "filtered_data_frame = data_frame[['level5', 'price', 'surface']]\n",
    "populations_to_filter = ('Valdemorillo', 'Galapagar')\n",
    "population_data_frames_dict = {\n",
    "    population: filtered_data_frame[filtered_data_frame['level5'] == population].dropna()\n",
    "    for population in populations_to_filter\n",
    "}\n",
    "for population in population_data_frames_dict:\n",
    "    population_data_frames_dict[population]['price_per_square_meter'] = \\\n",
    "        filtered_data_frame['price'] / filtered_data_frame['surface']\n",
    "\n",
    "valdemorillo_average_price_per_square_meter = \\\n",
    "    population_data_frames_dict[populations_to_filter[0]]['price_per_square_meter'].mean()\n",
    "galapagar_average_price_per_square_meter = \\\n",
    "    population_data_frames_dict[populations_to_filter[1]]['price_per_square_meter'].mean()\n",
    "\n",
    "print()\n",
    "to_print = f\"{populations_to_filter[0]} has an average price per square meter of \"\n",
    "to_print += f\"{valdemorillo_average_price_per_square_meter}\"\n",
    "print(to_print)\n",
    "to_print = f\"{populations_to_filter[1]} has an average price per square meter of \"\n",
    "to_print += f\"{galapagar_average_price_per_square_meter}\"\n",
    "print(to_print)\n",
    "if valdemorillo_average_price_per_square_meter == galapagar_average_price_per_square_meter:\n",
    "    print(\"Yes, both have the same average price per square meter\")\n",
    "else:\n",
    "    print(\"No, their average price per square meter is NOT the same\")\n",
    "print()"
   ]
  },
  {
   "cell_type": "markdown",
   "id": "2d40e202",
   "metadata": {},
   "source": [
    "#### Could you say there is a relation between surface and price? (★★☆) \n",
    "Hint: make a scatter plot."
   ]
  },
  {
   "cell_type": "code",
   "execution_count": null,
   "id": "405462e1",
   "metadata": {},
   "outputs": [],
   "source": [
    "import pandas as pd\n",
    "import matplotlib.pyplot as plt\n",
    "\n",
    "data_frame = pd.read_csv('./assets/real_estate.csv', sep=';')\n",
    "filtered_data_frame = data_frame[['level5', 'price', 'surface']]\n",
    "populations_to_filter = ('Valdemorillo', 'Galapagar')\n",
    "population_data_frames_dict = {\n",
    "    population: filtered_data_frame[filtered_data_frame['level5'] == population].dropna()\n",
    "    for population in populations_to_filter\n",
    "}\n",
    "\n",
    "plt.figure(figsize=(12, 4))\n",
    "plt.subplot(1, 3, 1)\n",
    "plt.ylabel('Surface')\n",
    "plt.scatter(population_data_frames_dict[populations_to_filter[0]]['price'],\n",
    "    population_data_frames_dict[populations_to_filter[0]]['surface'],\n",
    "    alpha=0.5, label=populations_to_filter[0])\n",
    "plt.legend(loc='upper left')\n",
    "plt.subplot(1, 3, 2)\n",
    "plt.scatter(population_data_frames_dict[populations_to_filter[1]]['price'],\n",
    "    population_data_frames_dict[populations_to_filter[1]]['surface'],\n",
    "    alpha=0.5, label=populations_to_filter[1])\n",
    "plt.legend(loc='upper left')\n",
    "plt.xlabel('Price')\n",
    "plt.subplot(1, 3, 3)\n",
    "plt.scatter(population_data_frames_dict[populations_to_filter[0]]['price'],\n",
    "    population_data_frames_dict[populations_to_filter[0]]['surface'], alpha=0.5,\n",
    "    label=populations_to_filter[0])\n",
    "plt.scatter(population_data_frames_dict[populations_to_filter[1]]['price'],\n",
    "    population_data_frames_dict[populations_to_filter[1]]['surface'], alpha=0.5,\n",
    "    label=populations_to_filter[1])\n",
    "plt.legend(loc='upper left')\n",
    "plt.show()\n",
    "\n",
    "print(\"The relation between surface and price seems to be inversely proportional.\")\n",
    "print(\"However, in Valdemorillo the surface grows faster than \")\n",
    "print(\"the price while in Galapagar seems to be the other way around.\")"
   ]
  },
  {
   "cell_type": "markdown",
   "id": "3275db77",
   "metadata": {},
   "source": [
    "#### Make the same plot for 4 different populations (level5) and rearrange them on the same graph? (★★☆) \n",
    "Hint: make a scatter plot of each population using subplots."
   ]
  },
  {
   "cell_type": "code",
   "execution_count": null,
   "id": "e08292ff",
   "metadata": {},
   "outputs": [],
   "source": [
    "import pandas as pd\n",
    "import matplotlib.pyplot as plt\n",
    "\n",
    "data_frame = pd.read_csv('./assets/real_estate.csv', sep=';')\n",
    "filtered_data_frame = data_frame[['level5', 'price', 'surface']]\n",
    "populations_to_filter = ('Valdemorillo', 'Galapagar', 'Getafe', 'Alcorcón')\n",
    "population_data_frames_dict = {\n",
    "    population: filtered_data_frame[filtered_data_frame['level5'] == population].dropna()\n",
    "    for population in populations_to_filter\n",
    "}\n",
    "\n",
    "plt.figure(figsize=(25, 8))\n",
    "plt.ylabel('Surface')\n",
    "\n",
    "for index, population in enumerate(populations_to_filter):\n",
    "    plt.subplot(1, 5, index + 1)\n",
    "    plt.scatter(population_data_frames_dict[populations_to_filter[index]]['price'],\n",
    "        population_data_frames_dict[populations_to_filter[index]]['surface'],\n",
    "        label=populations_to_filter[index])\n",
    "    plt.legend(loc='upper left')\n",
    "    plt.subplot(1, 5, 5)\n",
    "    plt.scatter(population_data_frames_dict[populations_to_filter[index]]['price'],\n",
    "        population_data_frames_dict[populations_to_filter[index]]['surface'],\n",
    "        label=populations_to_filter[index])\n",
    "\n",
    "plt.subplot(1, 5, 5)\n",
    "plt.legend(loc='upper left')\n",
    "plt.subplot(1, 5, 3)\n",
    "plt.xlabel('Price')\n",
    "plt.show()"
   ]
  },
  {
   "cell_type": "markdown",
   "id": "522c6bd9",
   "metadata": {},
   "source": [
    "#### How many  real estate agencies the dataset contains? (★★☆) "
   ]
  },
  {
   "cell_type": "code",
   "execution_count": null,
   "id": "014ec6c8",
   "metadata": {},
   "outputs": [],
   "source": [
    "import pandas as pd\n",
    "\n",
    "data_frame = pd.read_csv('./assets/real_estate.csv', sep=';')\n",
    "grouped_filtered_data_frame = data_frame.groupby(['id_realEstates'])\n",
    "grouped_filtered_data_frame = grouped_filtered_data_frame['id_realEstates']\n",
    "print(len(grouped_filtered_data_frame.size()))"
   ]
  },
  {
   "cell_type": "markdown",
   "id": "899a101e",
   "metadata": {},
   "source": [
    "#### What is the population (level 5) that contains the most houses? (★★☆) "
   ]
  },
  {
   "cell_type": "code",
   "execution_count": null,
   "id": "9e8b34ba",
   "metadata": {},
   "outputs": [],
   "source": [
    "import pandas as pd\n",
    "\n",
    "data_frame = pd.read_csv('./assets/real_estate.csv', sep=';')\n",
    "grouped_filtered_data_frame = data_frame.groupby(['level5'])\n",
    "houses_per_population = grouped_filtered_data_frame['level5'].count()\n",
    "print(houses_per_population.idxmax())"
   ]
  }
 ],
 "metadata": {
  "kernelspec": {
   "display_name": "Python 3.8.13 64-bit ('3.8.13')",
   "language": "python",
   "name": "python3"
  },
  "language_info": {
   "codemirror_mode": {
    "name": "ipython",
    "version": 3
   },
   "file_extension": ".py",
   "mimetype": "text/x-python",
   "name": "python",
   "nbconvert_exporter": "python",
   "pygments_lexer": "ipython3",
   "version": "3.8.13"
  },
  "vscode": {
   "interpreter": {
    "hash": "110cc1dee26208153f2972f08a2ad52b6a56238dc66d48e87fb757ef2996db56"
   }
  }
 },
 "nbformat": 4,
 "nbformat_minor": 5
}
